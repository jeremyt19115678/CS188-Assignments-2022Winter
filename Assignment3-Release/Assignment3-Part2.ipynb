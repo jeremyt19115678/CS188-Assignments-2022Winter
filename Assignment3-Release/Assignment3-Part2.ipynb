{
 "cells": [
  {
   "cell_type": "markdown",
   "metadata": {
    "id": "0cH8A3a7x7mO"
   },
   "source": [
    "# Assignment3-Part2\n",
    "\n",
    "In this part we will train a VQA model.\n",
    "\n",
    "In previous assignments you have learnt to write models.\n",
    "**Please fill in everything in VQA/vqa_model.py and run the following scripts.**"
   ]
  },
  {
   "cell_type": "markdown",
   "metadata": {
    "id": "DZyWdzaaWILA"
   },
   "source": [
    "# Setup Code"
   ]
  },
  {
   "cell_type": "code",
   "execution_count": null,
   "metadata": {
    "executionInfo": {
     "elapsed": 192,
     "status": "ok",
     "timestamp": 1644567513950,
     "user": {
      "displayName": "YINING HONG",
      "photoUrl": "https://lh3.googleusercontent.com/a/default-user=s64",
      "userId": "05036139830446782891"
     },
     "user_tz": 480
    },
    "id": "YjzsBhslWJFZ"
   },
   "outputs": [],
   "source": [
    "%load_ext autoreload\n",
    "%autoreload 2"
   ]
  },
  {
   "cell_type": "code",
   "execution_count": null,
   "metadata": {
    "colab": {
     "base_uri": "https://localhost:8080/"
    },
    "executionInfo": {
     "elapsed": 20334,
     "status": "ok",
     "timestamp": 1644567535081,
     "user": {
      "displayName": "YINING HONG",
      "photoUrl": "https://lh3.googleusercontent.com/a/default-user=s64",
      "userId": "05036139830446782891"
     },
     "user_tz": 480
    },
    "id": "twuuuKg3Yc0P",
    "outputId": "c05580c4-2e50-4861-c637-c0721fc74e23"
   },
   "outputs": [],
   "source": [
    "from google.colab import drive\n",
    "drive.mount('/content/drive', force_remount=True)"
   ]
  },
  {
   "cell_type": "code",
   "execution_count": null,
   "metadata": {
    "colab": {
     "base_uri": "https://localhost:8080/"
    },
    "executionInfo": {
     "elapsed": 968,
     "status": "ok",
     "timestamp": 1644567536035,
     "user": {
      "displayName": "YINING HONG",
      "photoUrl": "https://lh3.googleusercontent.com/a/default-user=s64",
      "userId": "05036139830446782891"
     },
     "user_tz": 480
    },
    "id": "hLir_mUQYi6d",
    "outputId": "06ab82a7-6486-4944-e269-15437aafc03c"
   },
   "outputs": [],
   "source": [
    "import os\n",
    "\n",
    "# TODO: Fill in the Google Drive path where you uploaded the assignment\n",
    "# Example: If you create a 188 folder and put all the files under Assignment1 folder, then '188/Assignment1'\n",
    "# GOOGLE_DRIVE_PATH_AFTER_MYDRIVE = '188/Assignment1'\n",
    "GOOGLE_DRIVE_PATH_AFTER_MYDRIVE = '188/Assignment3'\n",
    "GOOGLE_DRIVE_PATH = os.path.join('drive', 'My Drive', GOOGLE_DRIVE_PATH_AFTER_MYDRIVE)\n",
    "print(os.listdir(GOOGLE_DRIVE_PATH))"
   ]
  },
  {
   "cell_type": "code",
   "execution_count": null,
   "metadata": {
    "executionInfo": {
     "elapsed": 13,
     "status": "ok",
     "timestamp": 1644567536036,
     "user": {
      "displayName": "YINING HONG",
      "photoUrl": "https://lh3.googleusercontent.com/a/default-user=s64",
      "userId": "05036139830446782891"
     },
     "user_tz": 480
    },
    "id": "RIzoPO3zY1Mf"
   },
   "outputs": [],
   "source": [
    "import sys\n",
    "sys.path.append(GOOGLE_DRIVE_PATH)\n",
    "sys.path.append(os.path.join(GOOGLE_DRIVE_PATH, \"VQA\"))"
   ]
  },
  {
   "cell_type": "markdown",
   "metadata": {
    "id": "tkOmNbPdSqLm"
   },
   "source": [
    "Now we are going to untar the images folder. Don't worry! This time the file is much smaller."
   ]
  },
  {
   "cell_type": "code",
   "execution_count": null,
   "metadata": {
    "colab": {
     "base_uri": "https://localhost:8080/"
    },
    "executionInfo": {
     "elapsed": 19697,
     "status": "ok",
     "timestamp": 1644566900788,
     "user": {
      "displayName": "YINING HONG",
      "photoUrl": "https://lh3.googleusercontent.com/a/default-user=s64",
      "userId": "05036139830446782891"
     },
     "user_tz": 480
    },
    "id": "D9svhBylSd28",
    "outputId": "8c9eb8f0-6c40-4865-d813-9c24b0fd55e9"
   },
   "outputs": [],
   "source": [
    "!tar -xvf \"/content/drive/My Drive/188/Assignment3/VQA/images.tar.xz\" -C \"/content/drive/My Drive/188/Assignment3/VQA\""
   ]
  },
  {
   "cell_type": "code",
   "execution_count": null,
   "metadata": {
    "executionInfo": {
     "elapsed": 10526,
     "status": "ok",
     "timestamp": 1644567551407,
     "user": {
      "displayName": "YINING HONG",
      "photoUrl": "https://lh3.googleusercontent.com/a/default-user=s64",
      "userId": "05036139830446782891"
     },
     "user_tz": 480
    },
    "id": "Ige0GJZJx2SU"
   },
   "outputs": [],
   "source": [
    "import sys, os, re, json, time\n",
    "\n",
    "import pandas as pd\n",
    "import pickle\n",
    "import h5py\n",
    "\n",
    "import numpy as np\n",
    "import matplotlib.pyplot as plt\n",
    "from matplotlib.pyplot import imshow\n",
    "from VQA import plotting\n",
    "from PIL import Image\n",
    "from tqdm import tqdm\n",
    "from VQA.utils import imread, img_data_2_mini_batch, imgs2batch\n",
    "\n",
    "from sklearn import metrics\n",
    "from sklearn.metrics import accuracy_score\n",
    "\n",
    "# from naive import EncDec\n",
    "from VQA.vqa_model import EncDec\n",
    "# from attention import EncDec as FuseAttEncDec\n",
    "# from rnn_att import EncDec\n",
    "from VQA.data_loader import VQADataSet\n",
    "\n",
    "import torch\n",
    "import torch.nn as nn\n",
    "import torch.nn.functional as F\n",
    "import torch.utils.data as Data\n",
    "from torchvision import transforms\n"
   ]
  },
  {
   "cell_type": "code",
   "execution_count": null,
   "metadata": {
    "colab": {
     "base_uri": "https://localhost:8080/"
    },
    "executionInfo": {
     "elapsed": 1093,
     "status": "ok",
     "timestamp": 1644567552490,
     "user": {
      "displayName": "YINING HONG",
      "photoUrl": "https://lh3.googleusercontent.com/a/default-user=s64",
      "userId": "05036139830446782891"
     },
     "user_tz": 480
    },
    "id": "4YbLxn6Jx2SX",
    "outputId": "658096d7-b5c9-454d-9f10-331a4faaf090"
   },
   "outputs": [],
   "source": [
    "import nltk\n",
    "nltk.download('punkt')\n",
    "\n",
    "dataset_filename = os.path.join(GOOGLE_DRIVE_PATH, 'VQA', \"data.pkl\")\n",
    "dataset = None\n",
    "\n",
    "ann_path = os.path.join(GOOGLE_DRIVE_PATH, 'VQA/annotations.json')\n",
    "q_path   = os.path.join(GOOGLE_DRIVE_PATH, 'VQA/questions.json')\n",
    "i_path   = os.path.join(GOOGLE_DRIVE_PATH, 'VQA/images')\n",
    "\n",
    "if (os.path.exists(dataset_filename)):\n",
    "    with open(dataset_filename, 'rb') as handle:\n",
    "        print(\"reading from \" + dataset_filename)\n",
    "        dataset = pickle.load(handle)\n",
    "else:\n",
    "    dataset = VQADataSet(ann_path, q_path, i_path)\n",
    "    with open(dataset_filename, 'wb') as handle:\n",
    "        print(\"writing to \" + dataset_filename)\n",
    "        pickle.dump(dataset, handle)"
   ]
  },
  {
   "cell_type": "code",
   "execution_count": null,
   "metadata": {
    "colab": {
     "base_uri": "https://localhost:8080/"
    },
    "executionInfo": {
     "elapsed": 740,
     "status": "ok",
     "timestamp": 1644567595099,
     "user": {
      "displayName": "YINING HONG",
      "photoUrl": "https://lh3.googleusercontent.com/a/default-user=s64",
      "userId": "05036139830446782891"
     },
     "user_tz": 480
    },
    "id": "nYAwji6ox2SY",
    "outputId": "b11f040d-7939-4d69-9654-1095f35eee49"
   },
   "outputs": [],
   "source": [
    "embed_size        = 128\n",
    "batch_size        = 50\n",
    "ques_vocab_size   = len(dataset.vocab['question'])\n",
    "ans_vocab_size    = len(dataset.vocab['answer'])\n",
    "n_epochs          = 10 #change to smaller value if out of GPU\n",
    "learning_rate     = 0.001\n",
    "momentum          = 0.98\n",
    "attention_size    = 512\n",
    "\n",
    "print(ques_vocab_size, ans_vocab_size)"
   ]
  },
  {
   "cell_type": "code",
   "execution_count": null,
   "metadata": {
    "executionInfo": {
     "elapsed": 298,
     "status": "ok",
     "timestamp": 1644567598392,
     "user": {
      "displayName": "YINING HONG",
      "photoUrl": "https://lh3.googleusercontent.com/a/default-user=s64",
      "userId": "05036139830446782891"
     },
     "user_tz": 480
    },
    "id": "x88zG_ISx2SZ"
   },
   "outputs": [],
   "source": [
    "def eval_model(data_loader, model, criterion, optimizer, batch_size, training=False,\n",
    "              epoch = 0, total_loss_over_epochs=[], scores_over_epochs=[]):\n",
    "    running_loss = 0.\n",
    "    final_labels, final_preds = [], []\n",
    "    scores, losses = [], []\n",
    "    if data_loader is None:\n",
    "        return\n",
    "    \n",
    "    run_type = None\n",
    "    if training:\n",
    "        run_type = 'train'\n",
    "        model.train()\n",
    "    else:\n",
    "        run_type = 'test'\n",
    "        model.eval()\n",
    "    \n",
    "    for i, minibatch in enumerate(data_loader):\n",
    "        # extract minibatch\n",
    "        t0 = time.time()\n",
    "        idxs, v, q, a, q_len = minibatch\n",
    "        \n",
    "        # convert torch's DataLoader output to proper format.\n",
    "        # torch gives a List[Tensor_1, ... ] where tensor has been transposed. \n",
    "        # batchify transposes back.`\n",
    "        v = v.to(device)\n",
    "        q = VQADataSet.batchify_questions(q).to(device)\n",
    "        a = a.to(device)\n",
    "\n",
    "        logits = model(v, q)\n",
    "        preds = torch.argmax(logits, dim=1)\n",
    "\n",
    "        loss = F.nll_loss(logits, a)\n",
    "        running_loss += loss.item()\n",
    "        \n",
    "        score = metrics.accuracy_score(preds.tolist(),a.tolist())\n",
    "    \n",
    "        scores.append(score)\n",
    "        losses.append(loss)\n",
    "        \n",
    "        loss_key = '{}_loss'.format(run_type)\n",
    "        total_loss_over_epochs['{}_loss'.format(run_type)].append(loss)\n",
    "        scores_over_epochs['{}_scores'.format(run_type)].append(score)\n",
    "        \n",
    "        if training and optimizer is not None:\n",
    "            optimizer.zero_grad()\n",
    "            loss.backward()\n",
    "            optimizer.step()\n",
    "   \n",
    "        final_labels += a.tolist()\n",
    "        final_preds  += preds.tolist()\n",
    "        if i%10==0:\n",
    "            score = np.mean(scores)\n",
    "            print(\"Epoch {}: {} Loss: {} Score: {} t: {}\".format(epoch, run_type,loss, score, time.time()-t0))\n",
    "            \n",
    "    return running_loss, final_labels, final_preds"
   ]
  },
  {
   "cell_type": "code",
   "execution_count": null,
   "metadata": {
    "colab": {
     "base_uri": "https://localhost:8080/",
     "height": 866,
     "referenced_widgets": [
      "d05fedd08fb6423ba34e6b585fbd685f",
      "3ba7dcaacbe541a4872c5f4037b87be4",
      "7e8def828b8f4163977974d4e5cd3870",
      "0c9100cb2d16428c9b428e40bf81a6c0",
      "bd4b4ab9cb36436d813cc9c970a9670d",
      "6e05544f93314d98ad3d6fec39019105",
      "cac9513b45d84ed1a5d1a36c68b359a6",
      "98b651a074e146e9a8f379045835a70f",
      "e5cfe0bf33d74ccfb0f33488843e5d75",
      "134d2577fd724fcda733326c2764d906",
      "2ee09634cd944c4599557ebe607174c9"
     ]
    },
    "executionInfo": {
     "elapsed": 312829,
     "status": "error",
     "timestamp": 1644567914803,
     "user": {
      "displayName": "YINING HONG",
      "photoUrl": "https://lh3.googleusercontent.com/a/default-user=s64",
      "userId": "05036139830446782891"
     },
     "user_tz": 480
    },
    "id": "xbYM-bh0x2Sa",
    "outputId": "f1fb6024-db11-42ea-c81f-2739d3b443ee"
   },
   "outputs": [],
   "source": [
    "device = torch.device(\"cuda:0\" if torch.cuda.is_available() else \"cpu\")\n",
    "\n",
    "model = EncDec(embed_size,\n",
    "               ques_vocab_size, \n",
    "               ans_vocab_size, \n",
    "               prefix_n=1).to(device)\n",
    "\n",
    "criterion = nn.CrossEntropyLoss()\n",
    "optimizer = torch.optim.Adam(model.parameters(), lr=learning_rate)\n",
    "\n",
    "train_loader = dataset.build_data_loader(train=True, args={'batch_size': batch_size})\n",
    "test_loader  = dataset.build_data_loader(test=True, args={'batch_size': batch_size})\n",
    "\n",
    "best_score = 0\n",
    "\n",
    "train_all_loss, train_all_labels, train_all_preds = [], [], []\n",
    "print(\"model built, start training.\")\n",
    "total_loss_over_epochs, scores_over_epochs = plotting.get_empty_stat_over_n_epoch_dictionaries()\n",
    "total_loss_over_epochs2, scores_over_epochs2 = plotting.get_empty_stat_over_n_epoch_dictionaries()\n",
    "for epoch in tqdm(range(n_epochs)):\n",
    "    t0= time.time()\n",
    "    tr_loss, tr_labels, tr_preds = eval_model(data_loader = train_loader,\n",
    "                                     model       = model,\n",
    "                                     criterion   = criterion,\n",
    "                                     optimizer   = optimizer,\n",
    "                                     batch_size  = batch_size,\n",
    "                                     training    = True,\n",
    "                                     epoch       = epoch,\n",
    "                                     total_loss_over_epochs = total_loss_over_epochs,\n",
    "                                     scores_over_epochs     = scores_over_epochs)\n",
    "    \n",
    "    with torch.no_grad():\n",
    "        tr_loss, ts_labels, ts_preds = eval_model(data_loader = test_loader,\n",
    "                                         model       = model,\n",
    "                                         criterion   = criterion,\n",
    "                                         optimizer   = None,\n",
    "                                         batch_size  = batch_size,\n",
    "                                         training    = False,\n",
    "                                         epoch       = epoch,\n",
    "                                         total_loss_over_epochs = total_loss_over_epochs2,\n",
    "                                         scores_over_epochs     = scores_over_epochs2)\n",
    "    \n",
    "    \n",
    "    score = metrics.accuracy_score(ts_preds,ts_labels)\n",
    "\n",
    "    print(\"\\n\"+\"#==#\"*7 + \"epoch: {}\".format(epoch) + \"#==#\"*7)\n",
    "    print('TEST ACC: {}'.format(score))\n",
    "    print(\"#==#\"*7 + \"time: {}\".format(time.time()-t0) + \"#==#\"*7 + \"\\n\")\n",
    "\n",
    "    \n",
    "    \n",
    "    \n",
    "    "
   ]
  },
  {
   "cell_type": "code",
   "execution_count": null,
   "metadata": {
    "id": "MyHixxCgx2Sb"
   },
   "outputs": [],
   "source": [
    "### Error Analysis"
   ]
  },
  {
   "cell_type": "code",
   "execution_count": null,
   "metadata": {
    "colab": {
     "base_uri": "https://localhost:8080/",
     "height": 1000,
     "output_embedded_package_id": "1VT7yICj9bKKuIv_IFKLrcO7VtAMY10ua"
    },
    "executionInfo": {
     "elapsed": 102912,
     "status": "error",
     "timestamp": 1644568270881,
     "user": {
      "displayName": "YINING HONG",
      "photoUrl": "https://lh3.googleusercontent.com/a/default-user=s64",
      "userId": "05036139830446782891"
     },
     "user_tz": 480
    },
    "id": "8LqxVQaMx2Sb",
    "outputId": "a714ca5b-e910-42dd-abab-b760ad9a3abf"
   },
   "outputs": [],
   "source": [
    "import matplotlib\n",
    "import matplotlib.pyplot as plt\n",
    "%matplotlib inline\n",
    "count = 1\n",
    "err_anal_data = []\n",
    "for i, minibatch in enumerate(test_loader):\n",
    "    # extract minibatch\n",
    "    t0 = time.time()\n",
    "    idxs, v, q, a, q_len = minibatch\n",
    "\n",
    "    v = v.to(device)\n",
    "    q = VQADataSet.batchify_questions(q).to(device)\n",
    "    a = a.to(device)\n",
    "    \n",
    "    logits = model(v,q)\n",
    "    preds = torch.argmax(logits, dim=1)\n",
    "\n",
    "    for i in range(len(a)):\n",
    "        idx = idxs[i]\n",
    "        enc_ans = a[i].item()\n",
    "        enc_ques = q[i].detach().cpu().numpy()\n",
    "        img_v = v[i].detach().cpu().numpy()\n",
    "        question = dataset.decode_question(enc_ques)\n",
    "        answer_dec = dataset.decode_answer(preds[i])\n",
    "        answer = dataset.decode_answer(enc_ans)\n",
    "#         img_v = img_v.reshape(224, 224, 3)\n",
    "        plt.figure()\n",
    "        plt.imshow(img_v[0,:,:], interpolation='nearest')\n",
    "        plt.show()\n",
    "        question = question.replace(\"<pad>\", \"\")\n",
    "        question = question.replace(\"<start>\", \"\")\n",
    "        question = question.replace(\"<end>\", \"\").strip()\n",
    "        result = answer_dec==answer\n",
    "        err_anal_data.append([question, answer_dec, answer])\n",
    "        if not result:\n",
    "            print(\"{}. [Q] {} [A] {} [PRED] {}\".format(count, question, answer, answer_dec))\n",
    "            count+=1\n",
    "        print(err_anal_data[-1])\n",
    "        print('question:',  question)\n",
    "        print(\"[{}] - predicted: {} - ground-truth: {}\".format(answer_dec==answer, answer_dec, answer))\n"
   ]
  },
  {
   "cell_type": "markdown",
   "metadata": {
    "id": "pCzLD6kex2Sc"
   },
   "source": [
    "## Open Question: Design an Interactive Demo System\n",
    "Based on this model, design an interactive demo system like in http://visualqa.csail.mit.edu/\n",
    "When we input an image and a question to the system, it will return the answer.\n",
    "\n",
    "You can use any API you like. The easiest way is to directly use the notebook to show interactive demo. However, you can try fancier GUIs to show your results."
   ]
  },
  {
   "cell_type": "code",
   "execution_count": null,
   "metadata": {
    "id": "xK88rJymx2Sd"
   },
   "outputs": [],
   "source": []
  },
  {
   "cell_type": "code",
   "execution_count": null,
   "metadata": {
    "id": "0FyVjH5jx2Se"
   },
   "outputs": [],
   "source": []
  },
  {
   "cell_type": "code",
   "execution_count": null,
   "metadata": {
    "id": "r1pa7-Nlx2Sf"
   },
   "outputs": [],
   "source": []
  }
 ],
 "metadata": {
  "accelerator": "GPU",
  "colab": {
   "collapsed_sections": [],
   "name": "Assignment3-Part2.ipynb",
   "provenance": []
  },
  "kernelspec": {
   "display_name": "Python 3",
   "language": "python",
   "name": "python3"
  },
  "language_info": {
   "codemirror_mode": {
    "name": "ipython",
    "version": 3
   },
   "file_extension": ".py",
   "mimetype": "text/x-python",
   "name": "python",
   "nbconvert_exporter": "python",
   "pygments_lexer": "ipython3",
   "version": "3.7.3"
  },
  "widgets": {
   "application/vnd.jupyter.widget-state+json": {
    "0c9100cb2d16428c9b428e40bf81a6c0": {
     "model_module": "@jupyter-widgets/controls",
     "model_module_version": "1.5.0",
     "model_name": "FloatProgressModel",
     "state": {
      "_dom_classes": [],
      "_model_module": "@jupyter-widgets/controls",
      "_model_module_version": "1.5.0",
      "_model_name": "FloatProgressModel",
      "_view_count": null,
      "_view_module": "@jupyter-widgets/controls",
      "_view_module_version": "1.5.0",
      "_view_name": "ProgressView",
      "bar_style": "success",
      "description": "",
      "description_tooltip": null,
      "layout": "IPY_MODEL_e5cfe0bf33d74ccfb0f33488843e5d75",
      "max": 241627721,
      "min": 0,
      "orientation": "horizontal",
      "style": "IPY_MODEL_98b651a074e146e9a8f379045835a70f",
      "value": 241627721
     }
    },
    "134d2577fd724fcda733326c2764d906": {
     "model_module": "@jupyter-widgets/controls",
     "model_module_version": "1.5.0",
     "model_name": "DescriptionStyleModel",
     "state": {
      "_model_module": "@jupyter-widgets/controls",
      "_model_module_version": "1.5.0",
      "_model_name": "DescriptionStyleModel",
      "_view_count": null,
      "_view_module": "@jupyter-widgets/base",
      "_view_module_version": "1.2.0",
      "_view_name": "StyleView",
      "description_width": ""
     }
    },
    "2ee09634cd944c4599557ebe607174c9": {
     "model_module": "@jupyter-widgets/base",
     "model_module_version": "1.2.0",
     "model_name": "LayoutModel",
     "state": {
      "_model_module": "@jupyter-widgets/base",
      "_model_module_version": "1.2.0",
      "_model_name": "LayoutModel",
      "_view_count": null,
      "_view_module": "@jupyter-widgets/base",
      "_view_module_version": "1.2.0",
      "_view_name": "LayoutView",
      "align_content": null,
      "align_items": null,
      "align_self": null,
      "border": null,
      "bottom": null,
      "display": null,
      "flex": null,
      "flex_flow": null,
      "grid_area": null,
      "grid_auto_columns": null,
      "grid_auto_flow": null,
      "grid_auto_rows": null,
      "grid_column": null,
      "grid_gap": null,
      "grid_row": null,
      "grid_template_areas": null,
      "grid_template_columns": null,
      "grid_template_rows": null,
      "height": null,
      "justify_content": null,
      "justify_items": null,
      "left": null,
      "margin": null,
      "max_height": null,
      "max_width": null,
      "min_height": null,
      "min_width": null,
      "object_fit": null,
      "object_position": null,
      "order": null,
      "overflow": null,
      "overflow_x": null,
      "overflow_y": null,
      "padding": null,
      "right": null,
      "top": null,
      "visibility": null,
      "width": null
     }
    },
    "3ba7dcaacbe541a4872c5f4037b87be4": {
     "model_module": "@jupyter-widgets/base",
     "model_module_version": "1.2.0",
     "model_name": "LayoutModel",
     "state": {
      "_model_module": "@jupyter-widgets/base",
      "_model_module_version": "1.2.0",
      "_model_name": "LayoutModel",
      "_view_count": null,
      "_view_module": "@jupyter-widgets/base",
      "_view_module_version": "1.2.0",
      "_view_name": "LayoutView",
      "align_content": null,
      "align_items": null,
      "align_self": null,
      "border": null,
      "bottom": null,
      "display": null,
      "flex": null,
      "flex_flow": null,
      "grid_area": null,
      "grid_auto_columns": null,
      "grid_auto_flow": null,
      "grid_auto_rows": null,
      "grid_column": null,
      "grid_gap": null,
      "grid_row": null,
      "grid_template_areas": null,
      "grid_template_columns": null,
      "grid_template_rows": null,
      "height": null,
      "justify_content": null,
      "justify_items": null,
      "left": null,
      "margin": null,
      "max_height": null,
      "max_width": null,
      "min_height": null,
      "min_width": null,
      "object_fit": null,
      "object_position": null,
      "order": null,
      "overflow": null,
      "overflow_x": null,
      "overflow_y": null,
      "padding": null,
      "right": null,
      "top": null,
      "visibility": null,
      "width": null
     }
    },
    "6e05544f93314d98ad3d6fec39019105": {
     "model_module": "@jupyter-widgets/controls",
     "model_module_version": "1.5.0",
     "model_name": "DescriptionStyleModel",
     "state": {
      "_model_module": "@jupyter-widgets/controls",
      "_model_module_version": "1.5.0",
      "_model_name": "DescriptionStyleModel",
      "_view_count": null,
      "_view_module": "@jupyter-widgets/base",
      "_view_module_version": "1.2.0",
      "_view_name": "StyleView",
      "description_width": ""
     }
    },
    "7e8def828b8f4163977974d4e5cd3870": {
     "model_module": "@jupyter-widgets/controls",
     "model_module_version": "1.5.0",
     "model_name": "HTMLModel",
     "state": {
      "_dom_classes": [],
      "_model_module": "@jupyter-widgets/controls",
      "_model_module_version": "1.5.0",
      "_model_name": "HTMLModel",
      "_view_count": null,
      "_view_module": "@jupyter-widgets/controls",
      "_view_module_version": "1.5.0",
      "_view_name": "HTMLView",
      "description": "",
      "description_tooltip": null,
      "layout": "IPY_MODEL_cac9513b45d84ed1a5d1a36c68b359a6",
      "placeholder": "​",
      "style": "IPY_MODEL_6e05544f93314d98ad3d6fec39019105",
      "value": "100%"
     }
    },
    "98b651a074e146e9a8f379045835a70f": {
     "model_module": "@jupyter-widgets/controls",
     "model_module_version": "1.5.0",
     "model_name": "ProgressStyleModel",
     "state": {
      "_model_module": "@jupyter-widgets/controls",
      "_model_module_version": "1.5.0",
      "_model_name": "ProgressStyleModel",
      "_view_count": null,
      "_view_module": "@jupyter-widgets/base",
      "_view_module_version": "1.2.0",
      "_view_name": "StyleView",
      "bar_color": null,
      "description_width": ""
     }
    },
    "bd4b4ab9cb36436d813cc9c970a9670d": {
     "model_module": "@jupyter-widgets/controls",
     "model_module_version": "1.5.0",
     "model_name": "HTMLModel",
     "state": {
      "_dom_classes": [],
      "_model_module": "@jupyter-widgets/controls",
      "_model_module_version": "1.5.0",
      "_model_name": "HTMLModel",
      "_view_count": null,
      "_view_module": "@jupyter-widgets/controls",
      "_view_module_version": "1.5.0",
      "_view_name": "HTMLView",
      "description": "",
      "description_tooltip": null,
      "layout": "IPY_MODEL_2ee09634cd944c4599557ebe607174c9",
      "placeholder": "​",
      "style": "IPY_MODEL_134d2577fd724fcda733326c2764d906",
      "value": " 230M/230M [00:01&lt;00:00, 128MB/s]"
     }
    },
    "cac9513b45d84ed1a5d1a36c68b359a6": {
     "model_module": "@jupyter-widgets/base",
     "model_module_version": "1.2.0",
     "model_name": "LayoutModel",
     "state": {
      "_model_module": "@jupyter-widgets/base",
      "_model_module_version": "1.2.0",
      "_model_name": "LayoutModel",
      "_view_count": null,
      "_view_module": "@jupyter-widgets/base",
      "_view_module_version": "1.2.0",
      "_view_name": "LayoutView",
      "align_content": null,
      "align_items": null,
      "align_self": null,
      "border": null,
      "bottom": null,
      "display": null,
      "flex": null,
      "flex_flow": null,
      "grid_area": null,
      "grid_auto_columns": null,
      "grid_auto_flow": null,
      "grid_auto_rows": null,
      "grid_column": null,
      "grid_gap": null,
      "grid_row": null,
      "grid_template_areas": null,
      "grid_template_columns": null,
      "grid_template_rows": null,
      "height": null,
      "justify_content": null,
      "justify_items": null,
      "left": null,
      "margin": null,
      "max_height": null,
      "max_width": null,
      "min_height": null,
      "min_width": null,
      "object_fit": null,
      "object_position": null,
      "order": null,
      "overflow": null,
      "overflow_x": null,
      "overflow_y": null,
      "padding": null,
      "right": null,
      "top": null,
      "visibility": null,
      "width": null
     }
    },
    "d05fedd08fb6423ba34e6b585fbd685f": {
     "model_module": "@jupyter-widgets/controls",
     "model_module_version": "1.5.0",
     "model_name": "HBoxModel",
     "state": {
      "_dom_classes": [],
      "_model_module": "@jupyter-widgets/controls",
      "_model_module_version": "1.5.0",
      "_model_name": "HBoxModel",
      "_view_count": null,
      "_view_module": "@jupyter-widgets/controls",
      "_view_module_version": "1.5.0",
      "_view_name": "HBoxView",
      "box_style": "",
      "children": [
       "IPY_MODEL_7e8def828b8f4163977974d4e5cd3870",
       "IPY_MODEL_0c9100cb2d16428c9b428e40bf81a6c0",
       "IPY_MODEL_bd4b4ab9cb36436d813cc9c970a9670d"
      ],
      "layout": "IPY_MODEL_3ba7dcaacbe541a4872c5f4037b87be4"
     }
    },
    "e5cfe0bf33d74ccfb0f33488843e5d75": {
     "model_module": "@jupyter-widgets/base",
     "model_module_version": "1.2.0",
     "model_name": "LayoutModel",
     "state": {
      "_model_module": "@jupyter-widgets/base",
      "_model_module_version": "1.2.0",
      "_model_name": "LayoutModel",
      "_view_count": null,
      "_view_module": "@jupyter-widgets/base",
      "_view_module_version": "1.2.0",
      "_view_name": "LayoutView",
      "align_content": null,
      "align_items": null,
      "align_self": null,
      "border": null,
      "bottom": null,
      "display": null,
      "flex": null,
      "flex_flow": null,
      "grid_area": null,
      "grid_auto_columns": null,
      "grid_auto_flow": null,
      "grid_auto_rows": null,
      "grid_column": null,
      "grid_gap": null,
      "grid_row": null,
      "grid_template_areas": null,
      "grid_template_columns": null,
      "grid_template_rows": null,
      "height": null,
      "justify_content": null,
      "justify_items": null,
      "left": null,
      "margin": null,
      "max_height": null,
      "max_width": null,
      "min_height": null,
      "min_width": null,
      "object_fit": null,
      "object_position": null,
      "order": null,
      "overflow": null,
      "overflow_x": null,
      "overflow_y": null,
      "padding": null,
      "right": null,
      "top": null,
      "visibility": null,
      "width": null
     }
    }
   }
  }
 },
 "nbformat": 4,
 "nbformat_minor": 1
}
